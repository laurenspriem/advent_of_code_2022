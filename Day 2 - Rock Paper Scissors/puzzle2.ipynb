{
 "cells": [
  {
   "cell_type": "markdown",
   "metadata": {},
   "source": [
    "# Day 2"
   ]
  },
  {
   "cell_type": "markdown",
   "metadata": {},
   "source": [
    "## Part 1"
   ]
  },
  {
   "cell_type": "markdown",
   "metadata": {},
   "source": [
    "--- Day 2: Rock Paper Scissors ---\n",
    "\n",
    "The Elves begin to set up camp on the beach. To decide whose tent gets to be closest to the snack storage, a giant Rock Paper Scissors tournament is already in progress.\n",
    "\n",
    "Rock Paper Scissors is a game between two players. Each game contains many rounds; in each round, the players each simultaneously choose one of Rock, Paper, or Scissors using a hand shape. Then, a winner for that round is selected: Rock defeats Scissors, Scissors defeats Paper, and Paper defeats Rock. If both players choose the same shape, the round instead ends in a draw.\n",
    "\n",
    "Appreciative of your help yesterday, one Elf gives you an encrypted strategy guide (your puzzle input) that they say will be sure to help you win. \"The first column is what your opponent is going to play: A for Rock, B for Paper, and C for Scissors. The second column--\" Suddenly, the Elf is called away to help with someone's tent.\n",
    "\n",
    "The second column, you reason, must be what you should play in response: X for Rock, Y for Paper, and Z for Scissors. Winning every time would be suspicious, so the responses must have been carefully chosen.\n",
    "\n",
    "The winner of the whole tournament is the player with the highest score. Your total score is the sum of your scores for each round. The score for a single round is the score for the shape you selected (1 for Rock, 2 for Paper, and 3 for Scissors) plus the score for the outcome of the round (0 if you lost, 3 if the round was a draw, and 6 if you won).\n",
    "\n",
    "Since you can't be sure if the Elf is trying to help you or trick you, you should calculate the score you would get if you were to follow the strategy guide.\n",
    "\n",
    "For example, suppose you were given the following strategy guide:\n",
    "\n",
    "A Y\n",
    "B X\n",
    "C Z\n",
    "\n",
    "This strategy guide predicts and recommends the following:\n",
    "\n",
    "In the first round, your opponent will choose Rock (A), and you should choose Paper (Y). This ends in a win for you with a score of 8 (2 because you chose Paper + 6 because you won).\n",
    "In the second round, your opponent will choose Paper (B), and you should choose Rock (X). This ends in a loss for you with a score of 1 (1 + 0).\n",
    "The third round is a draw with both players choosing Scissors, giving you a score of 3 + 3 = 6.\n",
    "In this example, if you were to follow the strategy guide, you would get a total score of 15 (8 + 1 + 6).\n",
    "\n",
    "**What would your total score be if everything goes exactly according to your strategy guide?**"
   ]
  },
  {
   "cell_type": "code",
   "execution_count": 1,
   "metadata": {},
   "outputs": [],
   "source": [
    "import numpy as np"
   ]
  },
  {
   "cell_type": "code",
   "execution_count": 2,
   "metadata": {},
   "outputs": [],
   "source": [
    "# load data example\n",
    "file_example = open('input_example.txt', 'r')\n",
    "input_example = file_example.read()\n",
    "file_example.close()\n",
    "\n",
    "# load actual data\n",
    "file = open('input.txt', 'r')\n",
    "input = file.read()\n",
    "file.close()\n",
    "\n",
    "# transform input example\n",
    "input_example = input_example.split('\\n')\n",
    "input_example = [[strategy[0], strategy[2]] for strategy in input_example]\n",
    "\n",
    "# transform input\n",
    "input = input.split('\\n')\n",
    "input = [[strategy[0], strategy[2]] for strategy in input]"
   ]
  },
  {
   "cell_type": "code",
   "execution_count": 3,
   "metadata": {},
   "outputs": [],
   "source": [
    "def calculate_score(input):\n",
    "    \"\"\"\n",
    "    input: list of all rounds, containing for each round (row) first opponents strategy and then my strategy (Rock,Paper Scissor = A,B,C or X,Y,Z)\n",
    "    output: score depending on win and on chosen own strategy\n",
    "    \"\"\"\n",
    "    input_np = np.array(input)\n",
    "    # strategy score\n",
    "    strategy_score = sum(input_np[:,1] == 'X') + 2 * sum(input_np[:,1] == 'Y') + 3 * sum(input_np[:,1] == 'Z')\n",
    "    # win score\n",
    "    win_score = 0 \n",
    "    for round in input:\n",
    "        if round == ['A', 'X']:\n",
    "            win_score += 3\n",
    "        elif round == ['B', 'Y']:\n",
    "            win_score += 3\n",
    "        elif round == ['C', 'Z']:\n",
    "            win_score += 3\n",
    "        elif round == ['A', 'Z']:\n",
    "            win_score += 0\n",
    "        elif round == ['B', 'X']:\n",
    "            win_score += 0\n",
    "        elif round == ['C', 'Y']:\n",
    "            win_score += 0\n",
    "        elif round == ['A', 'Y']:\n",
    "            win_score += 6\n",
    "        elif round == ['B', 'Z']:\n",
    "            win_score += 6\n",
    "        elif round == ['C', 'X']:\n",
    "            win_score += 6\n",
    "    \n",
    "    return strategy_score + win_score"
   ]
  },
  {
   "cell_type": "code",
   "execution_count": 4,
   "metadata": {},
   "outputs": [
    {
     "name": "stdout",
     "output_type": "stream",
     "text": [
      "Answer: 15691\n"
     ]
    }
   ],
   "source": [
    "print(f\"Answer: {calculate_score(input)}\")"
   ]
  },
  {
   "cell_type": "markdown",
   "metadata": {},
   "source": [
    "## Part 2"
   ]
  },
  {
   "cell_type": "markdown",
   "metadata": {},
   "source": [
    "--- Part Two ---\n",
    "\n",
    "The Elf finishes helping with the tent and sneaks back over to you. \"Anyway, the second column says how the round needs to end: X means you need to lose, Y means you need to end the round in a draw, and Z means you need to win. Good luck!\"\n",
    "\n",
    "The total score is still calculated in the same way, but now you need to figure out what shape to choose so the round ends as indicated. The example above now goes like this:\n",
    "\n",
    "In the first round, your opponent will choose Rock (A), and you need the round to end in a draw (Y), so you also choose Rock. This gives you a score of 1 + 3 = 4.\n",
    "In the second round, your opponent will choose Paper (B), and you choose Rock so you lose (X) with a score of 1 + 0 = 1.\n",
    "In the third round, you will defeat your opponent's Scissors with Rock for a score of 1 + 6 = 7.\n",
    "Now that you're correctly decrypting the ultra top secret strategy guide, you would get a total score of 12.\n",
    "\n",
    "**Following the Elf's instructions for the second column, what would your total score be if everything goes exactly according to your strategy guide?**"
   ]
  },
  {
   "cell_type": "code",
   "execution_count": 5,
   "metadata": {},
   "outputs": [],
   "source": [
    "def calculate_score_V2(input):\n",
    "    \"\"\"\n",
    "    input: list of all rounds, containing for each round (row) first opponents strategy and then my strategy (Rock,Paper Scissor = A,B,C or X,Y,Z)\n",
    "    output: score depending on win and on chosen own strategy, now given the fact that X,Y,X decides whether you win or lose\n",
    "    \"\"\"\n",
    "    input_np = np.array(input)\n",
    "    # win score\n",
    "    win_score = 0 * sum(input_np[:,1] == 'X') + 3 * sum(input_np[:,1] == 'Y') + 6 * sum(input_np[:,1] == 'Z')\n",
    "    # strategy score\n",
    "    strategy_score = 0 \n",
    "    for round in input:\n",
    "        if round == ['A', 'X']:\n",
    "            strategy_score += 3\n",
    "        elif round == ['B', 'Y']:\n",
    "            strategy_score += 2\n",
    "        elif round == ['C', 'Z']:\n",
    "            strategy_score += 1\n",
    "        elif round == ['A', 'Z']:\n",
    "            strategy_score += 2\n",
    "        elif round == ['B', 'X']:\n",
    "            strategy_score += 1\n",
    "        elif round == ['C', 'Y']:\n",
    "            strategy_score += 3\n",
    "        elif round == ['A', 'Y']:\n",
    "            strategy_score += 1\n",
    "        elif round == ['B', 'Z']:\n",
    "            strategy_score += 3\n",
    "        elif round == ['C', 'X']:\n",
    "            strategy_score += 2\n",
    "    \n",
    "    return strategy_score + win_score"
   ]
  },
  {
   "cell_type": "code",
   "execution_count": 6,
   "metadata": {},
   "outputs": [
    {
     "name": "stdout",
     "output_type": "stream",
     "text": [
      "Answer: 12989\n"
     ]
    }
   ],
   "source": [
    "print(f\"Answer: {calculate_score_V2(input)}\")"
   ]
  }
 ],
 "metadata": {
  "kernelspec": {
   "display_name": "Python 3.8.10 64-bit",
   "language": "python",
   "name": "python3"
  },
  "language_info": {
   "codemirror_mode": {
    "name": "ipython",
    "version": 3
   },
   "file_extension": ".py",
   "mimetype": "text/x-python",
   "name": "python",
   "nbconvert_exporter": "python",
   "pygments_lexer": "ipython3",
   "version": "3.8.10"
  },
  "orig_nbformat": 4,
  "vscode": {
   "interpreter": {
    "hash": "916dbcbb3f70747c44a77c7bcd40155683ae19c65e1c03b4aa3499c5328201f1"
   }
  }
 },
 "nbformat": 4,
 "nbformat_minor": 2
}
