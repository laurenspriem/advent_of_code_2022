{
 "cells": [
  {
   "cell_type": "code",
   "execution_count": 7,
   "metadata": {},
   "outputs": [],
   "source": [
    "# load data\n",
    "with open(\"input_sample.txt\") as f:\n",
    "    input_sample = f.read().split(\"\\n\\n\")\n",
    "with open(\"input.txt\") as f:\n",
    "    input = f.read().split(\"\\n\\n\")\n",
    "\n",
    "import re # re.findall\n",
    "from collections import deque"
   ]
  },
  {
   "cell_type": "code",
   "execution_count": 8,
   "metadata": {},
   "outputs": [
    {
     "data": {
      "text/plain": [
       "['    [D]    \\n[N] [C]    \\n[Z] [M] [P]\\n 1   2   3 ',\n",
       " 'move 1 from 2 to 1\\nmove 3 from 1 to 3\\nmove 2 from 2 to 1\\nmove 1 from 1 to 2']"
      ]
     },
     "execution_count": 8,
     "metadata": {},
     "output_type": "execute_result"
    }
   ],
   "source": [
    "input_sample"
   ]
  },
  {
   "cell_type": "code",
   "execution_count": 9,
   "metadata": {},
   "outputs": [],
   "source": [
    "def part1(input):\n",
    "    starting_positions, instructions = input[0], input[1]\n",
    "    stacks = []\n",
    "    for idx in range(len(starting_positions.split(\"\\n\")[-1])):\n",
    "        if idx % 4 == 0:\n",
    "            stacks.append(deque())\n",
    "    for line in starting_positions.split(\"\\n\")[:-1]:\n",
    "        for stack, idx in enumerate(range(1, len(line), 4)):\n",
    "            if line[idx] != \" \":\n",
    "                stacks[stack].appendleft(line[idx])\n",
    "    for line in instructions.split(\"\\n\"):\n",
    "        amount, from_position, to_position = map(int,re.findall('[0-9]+', line))\n",
    "        for _ in range(amount):\n",
    "            temp = stacks[from_position-1].pop()\n",
    "            stacks[to_position-1].append(temp)\n",
    "    answer = \"\"\n",
    "    for stack in stacks:\n",
    "        answer += stack[-1]\n",
    "    \n",
    "    return answer"
   ]
  },
  {
   "cell_type": "code",
   "execution_count": 10,
   "metadata": {},
   "outputs": [
    {
     "name": "stdout",
     "output_type": "stream",
     "text": [
      "Answer: TWSGQHNHL\n"
     ]
    }
   ],
   "source": [
    "print(f\"Answer: {part1(input)}\")"
   ]
  },
  {
   "cell_type": "code",
   "execution_count": 11,
   "metadata": {},
   "outputs": [],
   "source": [
    "def part2(input):\n",
    "    starting_positions, instructions = input[0], input[1]\n",
    "    stacks = []\n",
    "    for idx in range(len(starting_positions.split(\"\\n\")[-1])):\n",
    "        if idx % 4 == 0:\n",
    "            stacks.append(deque())\n",
    "    for line in starting_positions.split(\"\\n\")[:-1]:\n",
    "        for stack, idx in enumerate(range(1, len(line), 4)):\n",
    "            if line[idx] != \" \":\n",
    "                stacks[stack].appendleft(line[idx])\n",
    "    for line in instructions.split(\"\\n\"):\n",
    "        amount, from_position, to_position = map(int,re.findall('[0-9]+', line))\n",
    "        if amount >1:\n",
    "            temp = deque()\n",
    "            for _ in range(amount):\n",
    "                temp.append(stacks[from_position-1].pop())\n",
    "            for _ in range(amount):\n",
    "                stacks[to_position-1].append(temp.pop())\n",
    "        elif amount ==1:\n",
    "            temp = stacks[from_position-1].pop()\n",
    "            stacks[to_position-1].append(temp)\n",
    "    answer = \"\"\n",
    "    for stack in stacks:\n",
    "        answer += stack[-1]\n",
    "    \n",
    "    return answer"
   ]
  },
  {
   "cell_type": "code",
   "execution_count": 12,
   "metadata": {},
   "outputs": [
    {
     "name": "stdout",
     "output_type": "stream",
     "text": [
      "Answer: JNRSCDWPP\n"
     ]
    }
   ],
   "source": [
    "print(f\"Answer: {part2(input)}\")"
   ]
  }
 ],
 "metadata": {
  "kernelspec": {
   "display_name": "Python 3.8.10 64-bit",
   "language": "python",
   "name": "python3"
  },
  "language_info": {
   "codemirror_mode": {
    "name": "ipython",
    "version": 3
   },
   "file_extension": ".py",
   "mimetype": "text/x-python",
   "name": "python",
   "nbconvert_exporter": "python",
   "pygments_lexer": "ipython3",
   "version": "3.8.10"
  },
  "orig_nbformat": 4,
  "vscode": {
   "interpreter": {
    "hash": "916dbcbb3f70747c44a77c7bcd40155683ae19c65e1c03b4aa3499c5328201f1"
   }
  }
 },
 "nbformat": 4,
 "nbformat_minor": 2
}
